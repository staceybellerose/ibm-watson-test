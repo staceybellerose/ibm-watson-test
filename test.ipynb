{
    "cells": [
        {
            "cell_type": "markdown",
            "metadata": {},
            "source": "## COVID-19 Daily State Data"
        },
        {
            "cell_type": "code",
            "execution_count": 1,
            "metadata": {},
            "outputs": [],
            "source": "# The code was removed by Watson Studio for sharing."
        },
        {
            "cell_type": "code",
            "execution_count": 2,
            "metadata": {},
            "outputs": [
                {
                    "data": {
                        "text/html": "<div>\n<style scoped>\n    .dataframe tbody tr th:only-of-type {\n        vertical-align: middle;\n    }\n\n    .dataframe tbody tr th {\n        vertical-align: top;\n    }\n\n    .dataframe thead th {\n        text-align: right;\n    }\n</style>\n<table border=\"1\" class=\"dataframe\">\n  <thead>\n    <tr style=\"text-align: right;\">\n      <th></th>\n      <th>date</th>\n      <th>state</th>\n      <th>positive</th>\n      <th>negative</th>\n      <th>pending</th>\n      <th>hospitalizedCurrently</th>\n      <th>hospitalizedCumulative</th>\n      <th>inIcuCurrently</th>\n      <th>inIcuCumulative</th>\n      <th>onVentilatorCurrently</th>\n      <th>...</th>\n      <th>posNeg</th>\n      <th>deathIncrease</th>\n      <th>hospitalizedIncrease</th>\n      <th>hash</th>\n      <th>commercialScore</th>\n      <th>negativeRegularScore</th>\n      <th>negativeScore</th>\n      <th>positiveScore</th>\n      <th>score</th>\n      <th>grade</th>\n    </tr>\n  </thead>\n  <tbody>\n    <tr>\n      <th>0</th>\n      <td>20200808</td>\n      <td>AK</td>\n      <td>4373.0</td>\n      <td>269220.0</td>\n      <td>NaN</td>\n      <td>37.0</td>\n      <td>NaN</td>\n      <td>NaN</td>\n      <td>NaN</td>\n      <td>4.0</td>\n      <td>...</td>\n      <td>273593</td>\n      <td>1</td>\n      <td>0</td>\n      <td>d36942d4821a56c98f553b370030b1c9a7855aa0</td>\n      <td>0</td>\n      <td>0</td>\n      <td>0</td>\n      <td>0</td>\n      <td>0</td>\n      <td>NaN</td>\n    </tr>\n    <tr>\n      <th>1</th>\n      <td>20200808</td>\n      <td>AL</td>\n      <td>98387.0</td>\n      <td>651115.0</td>\n      <td>NaN</td>\n      <td>1575.0</td>\n      <td>11537.0</td>\n      <td>NaN</td>\n      <td>1228.0</td>\n      <td>NaN</td>\n      <td>...</td>\n      <td>749502</td>\n      <td>0</td>\n      <td>0</td>\n      <td>191408bfa1ca5e4acff71a3f24bdbbd1f77a1581</td>\n      <td>0</td>\n      <td>0</td>\n      <td>0</td>\n      <td>0</td>\n      <td>0</td>\n      <td>NaN</td>\n    </tr>\n    <tr>\n      <th>2</th>\n      <td>20200808</td>\n      <td>AR</td>\n      <td>48039.0</td>\n      <td>503484.0</td>\n      <td>NaN</td>\n      <td>523.0</td>\n      <td>3223.0</td>\n      <td>NaN</td>\n      <td>NaN</td>\n      <td>116.0</td>\n      <td>...</td>\n      <td>551523</td>\n      <td>0</td>\n      <td>55</td>\n      <td>6181b7daad8c774aebf66f353d6fd0a3baa23869</td>\n      <td>0</td>\n      <td>0</td>\n      <td>0</td>\n      <td>0</td>\n      <td>0</td>\n      <td>NaN</td>\n    </tr>\n    <tr>\n      <th>3</th>\n      <td>20200808</td>\n      <td>AS</td>\n      <td>0.0</td>\n      <td>1396.0</td>\n      <td>NaN</td>\n      <td>NaN</td>\n      <td>NaN</td>\n      <td>NaN</td>\n      <td>NaN</td>\n      <td>NaN</td>\n      <td>...</td>\n      <td>1396</td>\n      <td>0</td>\n      <td>0</td>\n      <td>d4cb415af8eda47e10256141d1312f0c1c26c2ff</td>\n      <td>0</td>\n      <td>0</td>\n      <td>0</td>\n      <td>0</td>\n      <td>0</td>\n      <td>NaN</td>\n    </tr>\n    <tr>\n      <th>4</th>\n      <td>20200808</td>\n      <td>AZ</td>\n      <td>186107.0</td>\n      <td>830414.0</td>\n      <td>NaN</td>\n      <td>1659.0</td>\n      <td>19244.0</td>\n      <td>539.0</td>\n      <td>NaN</td>\n      <td>400.0</td>\n      <td>...</td>\n      <td>1016521</td>\n      <td>56</td>\n      <td>3</td>\n      <td>71a787f51d00f956ec684cf8734cb92a7f36c1da</td>\n      <td>0</td>\n      <td>0</td>\n      <td>0</td>\n      <td>0</td>\n      <td>0</td>\n      <td>NaN</td>\n    </tr>\n  </tbody>\n</table>\n<p>5 rows \u00d7 41 columns</p>\n</div>",
                        "text/plain": "       date state  positive  negative  pending  hospitalizedCurrently  \\\n0  20200808    AK    4373.0  269220.0      NaN                   37.0   \n1  20200808    AL   98387.0  651115.0      NaN                 1575.0   \n2  20200808    AR   48039.0  503484.0      NaN                  523.0   \n3  20200808    AS       0.0    1396.0      NaN                    NaN   \n4  20200808    AZ  186107.0  830414.0      NaN                 1659.0   \n\n   hospitalizedCumulative  inIcuCurrently  inIcuCumulative  \\\n0                     NaN             NaN              NaN   \n1                 11537.0             NaN           1228.0   \n2                  3223.0             NaN              NaN   \n3                     NaN             NaN              NaN   \n4                 19244.0           539.0              NaN   \n\n   onVentilatorCurrently  ...   posNeg  deathIncrease hospitalizedIncrease  \\\n0                    4.0  ...   273593              1                    0   \n1                    NaN  ...   749502              0                    0   \n2                  116.0  ...   551523              0                   55   \n3                    NaN  ...     1396              0                    0   \n4                  400.0  ...  1016521             56                    3   \n\n                                       hash commercialScore  \\\n0  d36942d4821a56c98f553b370030b1c9a7855aa0               0   \n1  191408bfa1ca5e4acff71a3f24bdbbd1f77a1581               0   \n2  6181b7daad8c774aebf66f353d6fd0a3baa23869               0   \n3  d4cb415af8eda47e10256141d1312f0c1c26c2ff               0   \n4  71a787f51d00f956ec684cf8734cb92a7f36c1da               0   \n\n  negativeRegularScore  negativeScore  positiveScore score  grade  \n0                    0              0              0     0    NaN  \n1                    0              0              0     0    NaN  \n2                    0              0              0     0    NaN  \n3                    0              0              0     0    NaN  \n4                    0              0              0     0    NaN  \n\n[5 rows x 41 columns]"
                    },
                    "execution_count": 2,
                    "metadata": {},
                    "output_type": "execute_result"
                }
            ],
            "source": "import types\nimport pandas as pd\nfrom botocore.client import Config\nimport ibm_boto3\n\ndef __iter__(self): return 0\n\nclient = ibm_boto3.client(service_name='s3',\n    ibm_api_key_id=credentials[\"IBM_API_KEY_ID\"],\n    ibm_auth_endpoint=credentials[\"IBM_AUTH_ENDPOINT\"],\n    config=Config(signature_version='oauth'),\n    endpoint_url=credentials[\"ENDPOINT\"])\n\nbody = client.get_object(Bucket=credentials[\"BUCKET\"],Key=credentials[\"FILE\"])['Body']\n# add missing __iter__ method, so pandas accepts body as file-like object\nif not hasattr(body, \"__iter__\"): body.__iter__ = types.MethodType( __iter__, body )\n\ndf_data = pd.read_csv(body)\ndf_data.head()\n"
        },
        {
            "cell_type": "code",
            "execution_count": null,
            "metadata": {},
            "outputs": [],
            "source": ""
        }
    ],
    "metadata": {
        "kernelspec": {
            "display_name": "Python 3.6",
            "language": "python",
            "name": "python3"
        },
        "language_info": {
            "codemirror_mode": {
                "name": "ipython",
                "version": 3
            },
            "file_extension": ".py",
            "mimetype": "text/x-python",
            "name": "python",
            "nbconvert_exporter": "python",
            "pygments_lexer": "ipython3",
            "version": "3.6.9"
        }
    },
    "nbformat": 4,
    "nbformat_minor": 1
}